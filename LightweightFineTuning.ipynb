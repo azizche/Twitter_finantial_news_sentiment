{
 "cells": [
  {
   "cell_type": "markdown",
   "id": "f35354cd",
   "metadata": {},
   "source": [
    "# Lightweight Fine-Tuning Project"
   ]
  },
  {
   "cell_type": "markdown",
   "id": "560fb3ff",
   "metadata": {},
   "source": [
    "This project explores the application of Parameter-Efficient Fine-Tuning (PEFT) techniques, focusing on LoRA (Low-Rank Adaptation), to fine-tune the GPT-2 model. The primary aim is to enhance the model's understanding and prediction of sentiment within the financial news domain, specifically leveraging data sourced from Twitter."
   ]
  },
  {
   "cell_type": "markdown",
   "id": "de8d76bb",
   "metadata": {},
   "source": [
    "## Loading and Evaluating a Foundation Model"
   ]
  },
  {
   "cell_type": "code",
   "execution_count": 1,
   "id": "f551c63a",
   "metadata": {},
   "outputs": [
    {
     "name": "stderr",
     "output_type": "stream",
     "text": [
      "/root/anaconda3/envs/projects/lib/python3.12/site-packages/tqdm/auto.py:21: TqdmWarning: IProgress not found. Please update jupyter and ipywidgets. See https://ipywidgets.readthedocs.io/en/stable/user_install.html\n",
      "  from .autonotebook import tqdm as notebook_tqdm\n"
     ]
    }
   ],
   "source": [
    "from datasets import load_dataset\n",
    "dataset = load_dataset(\"zeroshot/twitter-financial-news-sentiment\")"
   ]
  },
  {
   "cell_type": "code",
   "execution_count": 2,
   "id": "4935cb4d",
   "metadata": {},
   "outputs": [],
   "source": [
    "from transformers import AutoTokenizer, AutoModelForSequenceClassification\n",
    "\n",
    "model_name = \"ProsusAI/finbert\"\n",
    "id2label = {\n",
    "    0: \"Bearish\", \n",
    "   1: \"Bullish\", \n",
    "    2: \"Neutral\"\n",
    "}  \n",
    "label2id=dict(zip(id2label.values(),id2label.keys()))\n",
    "\n",
    "\n",
    "\n",
    "model = AutoModelForSequenceClassification.from_pretrained(model_name, num_labels=3,id2label=id2label, label2id=label2id)\n",
    "tokenizer = AutoTokenizer.from_pretrained(model_name)\n"
   ]
  },
  {
   "cell_type": "code",
   "execution_count": 3,
   "id": "f28c4a78",
   "metadata": {},
   "outputs": [
    {
     "name": "stderr",
     "output_type": "stream",
     "text": [
      "Map: 100%|██████████| 2388/2388 [00:00<00:00, 11243.86 examples/s]\n"
     ]
    }
   ],
   "source": [
    "def preprocess_dataset(dataset):\n",
    "    tokenized_dataset=tokenizer(dataset['text'],truncation=True,return_tensors=\"pt\",padding=True)\n",
    "    return tokenized_dataset\n",
    "dataset=dataset.map(preprocess_dataset,batched=True)"
   ]
  },
  {
   "cell_type": "code",
   "execution_count": 4,
   "id": "019b9f55",
   "metadata": {},
   "outputs": [
    {
     "data": {
      "text/plain": [
       "DatasetDict({\n",
       "    train: Dataset({\n",
       "        features: ['text', 'labels', 'input_ids', 'token_type_ids', 'attention_mask'],\n",
       "        num_rows: 9543\n",
       "    })\n",
       "    validation: Dataset({\n",
       "        features: ['text', 'labels', 'input_ids', 'token_type_ids', 'attention_mask'],\n",
       "        num_rows: 2388\n",
       "    })\n",
       "})"
      ]
     },
     "execution_count": 4,
     "metadata": {},
     "output_type": "execute_result"
    }
   ],
   "source": [
    "for split in [\"train\",'validation']:\n",
    "    dataset[split]=dataset[split].rename_column('label','labels')\n",
    "\n",
    "dataset"
   ]
  },
  {
   "cell_type": "code",
   "execution_count": 5,
   "id": "216cf92d",
   "metadata": {},
   "outputs": [],
   "source": [
    "from transformers import TrainingArguments, Trainer\n",
    "import numpy as np\n",
    "\n",
    "def compute_metrics(pred_eval):\n",
    "    predictions,target = pred_eval\n",
    "    pred_labels = np.argmax(predictions,axis=1)\n",
    "    return {\"accuracy\": (pred_labels==target).mean()}\n",
    "\n",
    "training_args=TrainingArguments(output_dir=\"./results_before_finetuning\",\n",
    "    per_device_eval_batch_size=8)\n",
    "trainer=Trainer(\n",
    "model=model,\n",
    "args=training_args,\n",
    "eval_dataset=dataset['validation'],\n",
    "    compute_metrics=compute_metrics\n",
    ")"
   ]
  },
  {
   "cell_type": "code",
   "execution_count": 6,
   "id": "e7f497a9",
   "metadata": {},
   "outputs": [
    {
     "data": {
      "text/html": [
       "\n",
       "    <div>\n",
       "      \n",
       "      <progress value='299' max='299' style='width:300px; height:20px; vertical-align: middle;'></progress>\n",
       "      [299/299 00:08]\n",
       "    </div>\n",
       "    "
      ],
      "text/plain": [
       "<IPython.core.display.HTML object>"
      ]
     },
     "metadata": {},
     "output_type": "display_data"
    },
    {
     "data": {
      "text/plain": [
       "{'eval_loss': 1.5094716548919678,\n",
       " 'eval_model_preparation_time': 0.0033,\n",
       " 'eval_accuracy': 0.5251256281407035,\n",
       " 'eval_runtime': 10.3207,\n",
       " 'eval_samples_per_second': 231.381,\n",
       " 'eval_steps_per_second': 28.971}"
      ]
     },
     "execution_count": 6,
     "metadata": {},
     "output_type": "execute_result"
    }
   ],
   "source": [
    "trainer.evaluate()"
   ]
  },
  {
   "cell_type": "markdown",
   "id": "4d52a229",
   "metadata": {},
   "source": [
    "## Performing Parameter-Efficient Fine-Tuning"
   ]
  },
  {
   "cell_type": "code",
   "execution_count": 11,
   "id": "5775fadf",
   "metadata": {},
   "outputs": [],
   "source": [
    "from peft import LoraConfig, TaskType\n",
    "\n",
    "lora_config = LoraConfig(task_type=TaskType.SEQ_CLS)"
   ]
  },
  {
   "cell_type": "code",
   "execution_count": 12,
   "id": "894046c0",
   "metadata": {},
   "outputs": [],
   "source": [
    "from peft import get_peft_model\n",
    "lora_model = get_peft_model(model,lora_config,)"
   ]
  },
  {
   "cell_type": "code",
   "execution_count": 13,
   "id": "c4d4c908",
   "metadata": {},
   "outputs": [
    {
     "name": "stderr",
     "output_type": "stream",
     "text": [
      "/root/anaconda3/envs/projects/lib/python3.12/site-packages/transformers/training_args.py:1545: FutureWarning: `evaluation_strategy` is deprecated and will be removed in version 4.46 of 🤗 Transformers. Use `eval_strategy` instead\n",
      "  warnings.warn(\n"
     ]
    }
   ],
   "source": [
    "from transformers import TrainingArguments, Trainer, DataCollatorWithPadding\n",
    "import numpy as np\n",
    "\n",
    "\n",
    "training_args = TrainingArguments(output_dir=\"results\",\n",
    "                                       learning_rate=0.002, \n",
    "                                       per_device_train_batch_size=9, \n",
    "                                       per_device_eval_batch_size=9, \n",
    "                                       evaluation_strategy=\"epoch\",\n",
    "                                      save_strategy=\"epoch\",\n",
    "                                       num_train_epochs=2,\n",
    "                                 load_best_model_at_end=True)\n",
    "trainer=Trainer(model=lora_model,\n",
    "                args=training_args, \n",
    "                train_dataset= dataset['train'], \n",
    "                eval_dataset=dataset['validation'], \n",
    "                compute_metrics=compute_metrics, \n",
    "                \n",
    "                data_collator=DataCollatorWithPadding(tokenizer), \n",
    "                tokenizer=tokenizer)\n"
   ]
  },
  {
   "cell_type": "code",
   "execution_count": 15,
   "id": "b47abf88",
   "metadata": {},
   "outputs": [
    {
     "data": {
      "text/html": [
       "\n",
       "    <div>\n",
       "      \n",
       "      <progress value='2122' max='2122' style='width:300px; height:20px; vertical-align: middle;'></progress>\n",
       "      [2122/2122 01:38, Epoch 2/2]\n",
       "    </div>\n",
       "    <table border=\"1\" class=\"dataframe\">\n",
       "  <thead>\n",
       " <tr style=\"text-align: left;\">\n",
       "      <th>Epoch</th>\n",
       "      <th>Training Loss</th>\n",
       "      <th>Validation Loss</th>\n",
       "      <th>Accuracy</th>\n",
       "    </tr>\n",
       "  </thead>\n",
       "  <tbody>\n",
       "    <tr>\n",
       "      <td>1</td>\n",
       "      <td>0.488700</td>\n",
       "      <td>0.428146</td>\n",
       "      <td>0.836265</td>\n",
       "    </tr>\n",
       "    <tr>\n",
       "      <td>2</td>\n",
       "      <td>0.308600</td>\n",
       "      <td>0.379581</td>\n",
       "      <td>0.872697</td>\n",
       "    </tr>\n",
       "  </tbody>\n",
       "</table><p>"
      ],
      "text/plain": [
       "<IPython.core.display.HTML object>"
      ]
     },
     "metadata": {},
     "output_type": "display_data"
    },
    {
     "data": {
      "text/plain": [
       "TrainOutput(global_step=2122, training_loss=0.42176432344398895, metrics={'train_runtime': 99.033, 'train_samples_per_second': 192.724, 'train_steps_per_second': 21.427, 'total_flos': 852784885553760.0, 'train_loss': 0.42176432344398895, 'epoch': 2.0})"
      ]
     },
     "execution_count": 15,
     "metadata": {},
     "output_type": "execute_result"
    }
   ],
   "source": [
    "trainer.train()"
   ]
  },
  {
   "cell_type": "code",
   "execution_count": 16,
   "id": "fa7fe003",
   "metadata": {},
   "outputs": [
    {
     "data": {
      "text/plain": [
       "('saved_models/tokenizer_config.json',\n",
       " 'saved_models/special_tokens_map.json',\n",
       " 'saved_models/vocab.txt',\n",
       " 'saved_models/added_tokens.json',\n",
       " 'saved_models/tokenizer.json')"
      ]
     },
     "execution_count": 16,
     "metadata": {},
     "output_type": "execute_result"
    }
   ],
   "source": [
    "save_path=\"saved_models\"\n",
    "lora_model.save_pretrained(save_path)\n",
    "tokenizer.save_pretrained(save_path)"
   ]
  },
  {
   "cell_type": "markdown",
   "id": "615b12c6",
   "metadata": {},
   "source": [
    "## Performing Inference with a PEFT Model"
   ]
  },
  {
   "cell_type": "code",
   "execution_count": 17,
   "id": "863ec66e",
   "metadata": {},
   "outputs": [],
   "source": [
    "from peft import AutoPeftModelForSequenceClassification\n",
    "lora_model_loaded=AutoPeftModelForSequenceClassification.from_pretrained(save_path)\n",
    "tokenizer=AutoTokenizer.from_pretrained(save_path)"
   ]
  },
  {
   "cell_type": "code",
   "execution_count": 18,
   "id": "bc3a8147",
   "metadata": {},
   "outputs": [
    {
     "data": {
      "text/html": [
       "\n",
       "    <div>\n",
       "      \n",
       "      <progress value='299' max='299' style='width:300px; height:20px; vertical-align: middle;'></progress>\n",
       "      [299/299 00:04]\n",
       "    </div>\n",
       "    "
      ],
      "text/plain": [
       "<IPython.core.display.HTML object>"
      ]
     },
     "metadata": {},
     "output_type": "display_data"
    },
    {
     "data": {
      "text/plain": [
       "{'eval_loss': 0.3795812726020813,\n",
       " 'eval_model_preparation_time': 0.0019,\n",
       " 'eval_accuracy': 0.8726968174204355,\n",
       " 'eval_runtime': 4.3638,\n",
       " 'eval_samples_per_second': 547.231,\n",
       " 'eval_steps_per_second': 68.518}"
      ]
     },
     "execution_count": 18,
     "metadata": {},
     "output_type": "execute_result"
    }
   ],
   "source": [
    "training_args=TrainingArguments(output_dir=\"./results_after_finetuning\",\n",
    "    per_device_eval_batch_size=8)\n",
    "trainer=Trainer(model=lora_model_loaded,\n",
    "                args=training_args, \n",
    "                eval_dataset=dataset['validation'], \n",
    "                compute_metrics=compute_metrics, )\n",
    "trainer.evaluate()"
   ]
  }
 ],
 "metadata": {
  "kernelspec": {
   "display_name": "projects",
   "language": "python",
   "name": "python3"
  },
  "language_info": {
   "codemirror_mode": {
    "name": "ipython",
    "version": 3
   },
   "file_extension": ".py",
   "mimetype": "text/x-python",
   "name": "python",
   "nbconvert_exporter": "python",
   "pygments_lexer": "ipython3",
   "version": "3.12.7"
  }
 },
 "nbformat": 4,
 "nbformat_minor": 5
}
